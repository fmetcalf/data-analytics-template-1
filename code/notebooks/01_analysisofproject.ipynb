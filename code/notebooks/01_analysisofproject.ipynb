{
 "cells": [
  {
   "cell_type": "code",
   "execution_count": 1,
   "id": "568262bf-19d9-49be-932c-199af38e58ee",
   "metadata": {},
   "outputs": [],
   "source": [
    "#All librariers necessary\n",
    "import pandas as pd\n",
    "import matplotlib.pyplot as plt\n",
    "import seaborn as sns"
   ]
  },
  {
   "cell_type": "code",
   "execution_count": 2,
   "id": "23f40633-8cd9-4121-8a3e-ecd871295d84",
   "metadata": {},
   "outputs": [],
   "source": [
    "# Call in the raw.csv scraped file\n",
    "billboard = pd.read_csv(\"billboard_raw.csv\", delimiter=',', encoding='utf-8')"
   ]
  },
  {
   "cell_type": "code",
   "execution_count": 3,
   "id": "a3d00dce-33f7-4efb-ac5d-a2bbfb80edfe",
   "metadata": {},
   "outputs": [
    {
     "data": {
      "text/html": [
       "<div>\n",
       "<style scoped>\n",
       "    .dataframe tbody tr th:only-of-type {\n",
       "        vertical-align: middle;\n",
       "    }\n",
       "\n",
       "    .dataframe tbody tr th {\n",
       "        vertical-align: top;\n",
       "    }\n",
       "\n",
       "    .dataframe thead th {\n",
       "        text-align: right;\n",
       "    }\n",
       "</style>\n",
       "<table border=\"1\" class=\"dataframe\">\n",
       "  <thead>\n",
       "    <tr style=\"text-align: right;\">\n",
       "      <th></th>\n",
       "      <th>song_name</th>\n",
       "      <th>artists</th>\n",
       "      <th>rank</th>\n",
       "    </tr>\n",
       "  </thead>\n",
       "  <tbody>\n",
       "    <tr>\n",
       "      <th>0</th>\n",
       "      <td>Uptown Funk!</td>\n",
       "      <td>Mark Ronson Featuring Bruno Mars</td>\n",
       "      <td>1</td>\n",
       "    </tr>\n",
       "    <tr>\n",
       "      <th>1</th>\n",
       "      <td>Party Rock Anthem</td>\n",
       "      <td>LMFAO Featuring Lauren Bennett &amp; GoonRock</td>\n",
       "      <td>2</td>\n",
       "    </tr>\n",
       "    <tr>\n",
       "      <th>2</th>\n",
       "      <td>Shape Of You</td>\n",
       "      <td>Ed Sheeran</td>\n",
       "      <td>3</td>\n",
       "    </tr>\n",
       "    <tr>\n",
       "      <th>3</th>\n",
       "      <td>Closer</td>\n",
       "      <td>The Chainsmokers Featuring Halsey</td>\n",
       "      <td>4</td>\n",
       "    </tr>\n",
       "    <tr>\n",
       "      <th>4</th>\n",
       "      <td>Girls Like You</td>\n",
       "      <td>Maroon 5 Featuring Cardi B</td>\n",
       "      <td>5</td>\n",
       "    </tr>\n",
       "    <tr>\n",
       "      <th>...</th>\n",
       "      <td>...</td>\n",
       "      <td>...</td>\n",
       "      <td>...</td>\n",
       "    </tr>\n",
       "    <tr>\n",
       "      <th>95</th>\n",
       "      <td>Panda</td>\n",
       "      <td>Desiigner</td>\n",
       "      <td>96</td>\n",
       "    </tr>\n",
       "    <tr>\n",
       "      <th>96</th>\n",
       "      <td>Break Your Heart</td>\n",
       "      <td>Taio Cruz Featuring Ludacris</td>\n",
       "      <td>97</td>\n",
       "    </tr>\n",
       "    <tr>\n",
       "      <th>97</th>\n",
       "      <td>In My Feelings</td>\n",
       "      <td>Drake</td>\n",
       "      <td>98</td>\n",
       "    </tr>\n",
       "    <tr>\n",
       "      <th>98</th>\n",
       "      <td>Wrecking Ball</td>\n",
       "      <td>Miley Cyrus</td>\n",
       "      <td>99</td>\n",
       "    </tr>\n",
       "    <tr>\n",
       "      <th>99</th>\n",
       "      <td>Ho Hey</td>\n",
       "      <td>The Lumineers</td>\n",
       "      <td>100</td>\n",
       "    </tr>\n",
       "  </tbody>\n",
       "</table>\n",
       "<p>100 rows × 3 columns</p>\n",
       "</div>"
      ],
      "text/plain": [
       "            song_name                                    artists  rank\n",
       "0        Uptown Funk!           Mark Ronson Featuring Bruno Mars     1\n",
       "1   Party Rock Anthem  LMFAO Featuring Lauren Bennett & GoonRock     2\n",
       "2        Shape Of You                                 Ed Sheeran     3\n",
       "3              Closer          The Chainsmokers Featuring Halsey     4\n",
       "4      Girls Like You                 Maroon 5 Featuring Cardi B     5\n",
       "..                ...                                        ...   ...\n",
       "95              Panda                                  Desiigner    96\n",
       "96   Break Your Heart               Taio Cruz Featuring Ludacris    97\n",
       "97     In My Feelings                                      Drake    98\n",
       "98      Wrecking Ball                                Miley Cyrus    99\n",
       "99             Ho Hey                              The Lumineers   100\n",
       "\n",
       "[100 rows x 3 columns]"
      ]
     },
     "metadata": {},
     "output_type": "display_data"
    }
   ],
   "source": [
    "# Display the dataframe\n",
    "display(billboard)"
   ]
  },
  {
   "cell_type": "code",
   "execution_count": 4,
   "id": "eed24424-89e6-4198-b5f0-a01f91421106",
   "metadata": {},
   "outputs": [
    {
     "ename": "FileNotFoundError",
     "evalue": "[Errno 2] No such file or directory: 'top10s.csv'",
     "output_type": "error",
     "traceback": [
      "\u001b[1;31m---------------------------------------------------------------------------\u001b[0m",
      "\u001b[1;31mFileNotFoundError\u001b[0m                         Traceback (most recent call last)",
      "Cell \u001b[1;32mIn[4], line 2\u001b[0m\n\u001b[0;32m      1\u001b[0m \u001b[38;5;66;03m# Call in the Kaggle dataset\u001b[39;00m\n\u001b[1;32m----> 2\u001b[0m top10 \u001b[38;5;241m=\u001b[39m pd\u001b[38;5;241m.\u001b[39mread_csv(\u001b[38;5;124m\"\u001b[39m\u001b[38;5;124mtop10s.csv\u001b[39m\u001b[38;5;124m\"\u001b[39m, delimiter\u001b[38;5;241m=\u001b[39m\u001b[38;5;124m'\u001b[39m\u001b[38;5;124m,\u001b[39m\u001b[38;5;124m'\u001b[39m, encoding\u001b[38;5;241m=\u001b[39m\u001b[38;5;124m'\u001b[39m\u001b[38;5;124mISO-8859-1\u001b[39m\u001b[38;5;124m'\u001b[39m)\n",
      "File \u001b[1;32m~\\anaconda4\\Lib\\site-packages\\pandas\\io\\parsers\\readers.py:1026\u001b[0m, in \u001b[0;36mread_csv\u001b[1;34m(filepath_or_buffer, sep, delimiter, header, names, index_col, usecols, dtype, engine, converters, true_values, false_values, skipinitialspace, skiprows, skipfooter, nrows, na_values, keep_default_na, na_filter, verbose, skip_blank_lines, parse_dates, infer_datetime_format, keep_date_col, date_parser, date_format, dayfirst, cache_dates, iterator, chunksize, compression, thousands, decimal, lineterminator, quotechar, quoting, doublequote, escapechar, comment, encoding, encoding_errors, dialect, on_bad_lines, delim_whitespace, low_memory, memory_map, float_precision, storage_options, dtype_backend)\u001b[0m\n\u001b[0;32m   1013\u001b[0m kwds_defaults \u001b[38;5;241m=\u001b[39m _refine_defaults_read(\n\u001b[0;32m   1014\u001b[0m     dialect,\n\u001b[0;32m   1015\u001b[0m     delimiter,\n\u001b[1;32m   (...)\u001b[0m\n\u001b[0;32m   1022\u001b[0m     dtype_backend\u001b[38;5;241m=\u001b[39mdtype_backend,\n\u001b[0;32m   1023\u001b[0m )\n\u001b[0;32m   1024\u001b[0m kwds\u001b[38;5;241m.\u001b[39mupdate(kwds_defaults)\n\u001b[1;32m-> 1026\u001b[0m \u001b[38;5;28;01mreturn\u001b[39;00m _read(filepath_or_buffer, kwds)\n",
      "File \u001b[1;32m~\\anaconda4\\Lib\\site-packages\\pandas\\io\\parsers\\readers.py:620\u001b[0m, in \u001b[0;36m_read\u001b[1;34m(filepath_or_buffer, kwds)\u001b[0m\n\u001b[0;32m    617\u001b[0m _validate_names(kwds\u001b[38;5;241m.\u001b[39mget(\u001b[38;5;124m\"\u001b[39m\u001b[38;5;124mnames\u001b[39m\u001b[38;5;124m\"\u001b[39m, \u001b[38;5;28;01mNone\u001b[39;00m))\n\u001b[0;32m    619\u001b[0m \u001b[38;5;66;03m# Create the parser.\u001b[39;00m\n\u001b[1;32m--> 620\u001b[0m parser \u001b[38;5;241m=\u001b[39m TextFileReader(filepath_or_buffer, \u001b[38;5;241m*\u001b[39m\u001b[38;5;241m*\u001b[39mkwds)\n\u001b[0;32m    622\u001b[0m \u001b[38;5;28;01mif\u001b[39;00m chunksize \u001b[38;5;129;01mor\u001b[39;00m iterator:\n\u001b[0;32m    623\u001b[0m     \u001b[38;5;28;01mreturn\u001b[39;00m parser\n",
      "File \u001b[1;32m~\\anaconda4\\Lib\\site-packages\\pandas\\io\\parsers\\readers.py:1620\u001b[0m, in \u001b[0;36mTextFileReader.__init__\u001b[1;34m(self, f, engine, **kwds)\u001b[0m\n\u001b[0;32m   1617\u001b[0m     \u001b[38;5;28mself\u001b[39m\u001b[38;5;241m.\u001b[39moptions[\u001b[38;5;124m\"\u001b[39m\u001b[38;5;124mhas_index_names\u001b[39m\u001b[38;5;124m\"\u001b[39m] \u001b[38;5;241m=\u001b[39m kwds[\u001b[38;5;124m\"\u001b[39m\u001b[38;5;124mhas_index_names\u001b[39m\u001b[38;5;124m\"\u001b[39m]\n\u001b[0;32m   1619\u001b[0m \u001b[38;5;28mself\u001b[39m\u001b[38;5;241m.\u001b[39mhandles: IOHandles \u001b[38;5;241m|\u001b[39m \u001b[38;5;28;01mNone\u001b[39;00m \u001b[38;5;241m=\u001b[39m \u001b[38;5;28;01mNone\u001b[39;00m\n\u001b[1;32m-> 1620\u001b[0m \u001b[38;5;28mself\u001b[39m\u001b[38;5;241m.\u001b[39m_engine \u001b[38;5;241m=\u001b[39m \u001b[38;5;28mself\u001b[39m\u001b[38;5;241m.\u001b[39m_make_engine(f, \u001b[38;5;28mself\u001b[39m\u001b[38;5;241m.\u001b[39mengine)\n",
      "File \u001b[1;32m~\\anaconda4\\Lib\\site-packages\\pandas\\io\\parsers\\readers.py:1880\u001b[0m, in \u001b[0;36mTextFileReader._make_engine\u001b[1;34m(self, f, engine)\u001b[0m\n\u001b[0;32m   1878\u001b[0m     \u001b[38;5;28;01mif\u001b[39;00m \u001b[38;5;124m\"\u001b[39m\u001b[38;5;124mb\u001b[39m\u001b[38;5;124m\"\u001b[39m \u001b[38;5;129;01mnot\u001b[39;00m \u001b[38;5;129;01min\u001b[39;00m mode:\n\u001b[0;32m   1879\u001b[0m         mode \u001b[38;5;241m+\u001b[39m\u001b[38;5;241m=\u001b[39m \u001b[38;5;124m\"\u001b[39m\u001b[38;5;124mb\u001b[39m\u001b[38;5;124m\"\u001b[39m\n\u001b[1;32m-> 1880\u001b[0m \u001b[38;5;28mself\u001b[39m\u001b[38;5;241m.\u001b[39mhandles \u001b[38;5;241m=\u001b[39m get_handle(\n\u001b[0;32m   1881\u001b[0m     f,\n\u001b[0;32m   1882\u001b[0m     mode,\n\u001b[0;32m   1883\u001b[0m     encoding\u001b[38;5;241m=\u001b[39m\u001b[38;5;28mself\u001b[39m\u001b[38;5;241m.\u001b[39moptions\u001b[38;5;241m.\u001b[39mget(\u001b[38;5;124m\"\u001b[39m\u001b[38;5;124mencoding\u001b[39m\u001b[38;5;124m\"\u001b[39m, \u001b[38;5;28;01mNone\u001b[39;00m),\n\u001b[0;32m   1884\u001b[0m     compression\u001b[38;5;241m=\u001b[39m\u001b[38;5;28mself\u001b[39m\u001b[38;5;241m.\u001b[39moptions\u001b[38;5;241m.\u001b[39mget(\u001b[38;5;124m\"\u001b[39m\u001b[38;5;124mcompression\u001b[39m\u001b[38;5;124m\"\u001b[39m, \u001b[38;5;28;01mNone\u001b[39;00m),\n\u001b[0;32m   1885\u001b[0m     memory_map\u001b[38;5;241m=\u001b[39m\u001b[38;5;28mself\u001b[39m\u001b[38;5;241m.\u001b[39moptions\u001b[38;5;241m.\u001b[39mget(\u001b[38;5;124m\"\u001b[39m\u001b[38;5;124mmemory_map\u001b[39m\u001b[38;5;124m\"\u001b[39m, \u001b[38;5;28;01mFalse\u001b[39;00m),\n\u001b[0;32m   1886\u001b[0m     is_text\u001b[38;5;241m=\u001b[39mis_text,\n\u001b[0;32m   1887\u001b[0m     errors\u001b[38;5;241m=\u001b[39m\u001b[38;5;28mself\u001b[39m\u001b[38;5;241m.\u001b[39moptions\u001b[38;5;241m.\u001b[39mget(\u001b[38;5;124m\"\u001b[39m\u001b[38;5;124mencoding_errors\u001b[39m\u001b[38;5;124m\"\u001b[39m, \u001b[38;5;124m\"\u001b[39m\u001b[38;5;124mstrict\u001b[39m\u001b[38;5;124m\"\u001b[39m),\n\u001b[0;32m   1888\u001b[0m     storage_options\u001b[38;5;241m=\u001b[39m\u001b[38;5;28mself\u001b[39m\u001b[38;5;241m.\u001b[39moptions\u001b[38;5;241m.\u001b[39mget(\u001b[38;5;124m\"\u001b[39m\u001b[38;5;124mstorage_options\u001b[39m\u001b[38;5;124m\"\u001b[39m, \u001b[38;5;28;01mNone\u001b[39;00m),\n\u001b[0;32m   1889\u001b[0m )\n\u001b[0;32m   1890\u001b[0m \u001b[38;5;28;01massert\u001b[39;00m \u001b[38;5;28mself\u001b[39m\u001b[38;5;241m.\u001b[39mhandles \u001b[38;5;129;01mis\u001b[39;00m \u001b[38;5;129;01mnot\u001b[39;00m \u001b[38;5;28;01mNone\u001b[39;00m\n\u001b[0;32m   1891\u001b[0m f \u001b[38;5;241m=\u001b[39m \u001b[38;5;28mself\u001b[39m\u001b[38;5;241m.\u001b[39mhandles\u001b[38;5;241m.\u001b[39mhandle\n",
      "File \u001b[1;32m~\\anaconda4\\Lib\\site-packages\\pandas\\io\\common.py:873\u001b[0m, in \u001b[0;36mget_handle\u001b[1;34m(path_or_buf, mode, encoding, compression, memory_map, is_text, errors, storage_options)\u001b[0m\n\u001b[0;32m    868\u001b[0m \u001b[38;5;28;01melif\u001b[39;00m \u001b[38;5;28misinstance\u001b[39m(handle, \u001b[38;5;28mstr\u001b[39m):\n\u001b[0;32m    869\u001b[0m     \u001b[38;5;66;03m# Check whether the filename is to be opened in binary mode.\u001b[39;00m\n\u001b[0;32m    870\u001b[0m     \u001b[38;5;66;03m# Binary mode does not support 'encoding' and 'newline'.\u001b[39;00m\n\u001b[0;32m    871\u001b[0m     \u001b[38;5;28;01mif\u001b[39;00m ioargs\u001b[38;5;241m.\u001b[39mencoding \u001b[38;5;129;01mand\u001b[39;00m \u001b[38;5;124m\"\u001b[39m\u001b[38;5;124mb\u001b[39m\u001b[38;5;124m\"\u001b[39m \u001b[38;5;129;01mnot\u001b[39;00m \u001b[38;5;129;01min\u001b[39;00m ioargs\u001b[38;5;241m.\u001b[39mmode:\n\u001b[0;32m    872\u001b[0m         \u001b[38;5;66;03m# Encoding\u001b[39;00m\n\u001b[1;32m--> 873\u001b[0m         handle \u001b[38;5;241m=\u001b[39m \u001b[38;5;28mopen\u001b[39m(\n\u001b[0;32m    874\u001b[0m             handle,\n\u001b[0;32m    875\u001b[0m             ioargs\u001b[38;5;241m.\u001b[39mmode,\n\u001b[0;32m    876\u001b[0m             encoding\u001b[38;5;241m=\u001b[39mioargs\u001b[38;5;241m.\u001b[39mencoding,\n\u001b[0;32m    877\u001b[0m             errors\u001b[38;5;241m=\u001b[39merrors,\n\u001b[0;32m    878\u001b[0m             newline\u001b[38;5;241m=\u001b[39m\u001b[38;5;124m\"\u001b[39m\u001b[38;5;124m\"\u001b[39m,\n\u001b[0;32m    879\u001b[0m         )\n\u001b[0;32m    880\u001b[0m     \u001b[38;5;28;01melse\u001b[39;00m:\n\u001b[0;32m    881\u001b[0m         \u001b[38;5;66;03m# Binary mode\u001b[39;00m\n\u001b[0;32m    882\u001b[0m         handle \u001b[38;5;241m=\u001b[39m \u001b[38;5;28mopen\u001b[39m(handle, ioargs\u001b[38;5;241m.\u001b[39mmode)\n",
      "\u001b[1;31mFileNotFoundError\u001b[0m: [Errno 2] No such file or directory: 'top10s.csv'"
     ]
    }
   ],
   "source": [
    "# Call in the Kaggle dataset\n",
    "top10 = pd.read_csv(\"top10s.csv\", delimiter=',', encoding='ISO-8859-1')"
   ]
  },
  {
   "cell_type": "code",
   "execution_count": null,
   "id": "153be193-3ba6-44b4-80e0-cccc49d959c7",
   "metadata": {},
   "outputs": [],
   "source": [
    "# Display the Kaggle Dataset\n",
    "display(top10)"
   ]
  },
  {
   "cell_type": "code",
   "execution_count": null,
   "id": "da0d52bf-ab41-48e1-882a-eb975f79d7e2",
   "metadata": {},
   "outputs": [],
   "source": [
    "# Change title to song_name\n",
    "top10 = top10.rename(columns= {\"title\": \"song_name\"})"
   ]
  },
  {
   "cell_type": "code",
   "execution_count": null,
   "id": "9314db50-ab74-4bc5-a5c2-7628385e2229",
   "metadata": {},
   "outputs": [],
   "source": [
    "# Merge the two dataframes into one on song_name using an inner join to only use the songs in both dataframes\n",
    "merged_df = pd.merge(top10, billboard, on=['song_name'], how='inner')"
   ]
  },
  {
   "cell_type": "code",
   "execution_count": null,
   "id": "4c319e08-fc96-4272-bf5e-cea5de581b58",
   "metadata": {},
   "outputs": [],
   "source": [
    "# Display the merged dataframe\n",
    "display(merged_df)"
   ]
  },
  {
   "cell_type": "code",
   "execution_count": null,
   "id": "96425492-642c-4cab-b3b5-9303b9608394",
   "metadata": {},
   "outputs": [],
   "source": [
    "# Change all column names to follow the names in the final report data dictionary\n",
    "merged_df = merged_df.rename(columns= {\"nrgy\": \"energy\"})\n",
    "merged_df = merged_df.rename(columns= {\"dnce\": \"dance\"})\n",
    "merged_df = merged_df.rename(columns= {\"top genre\": \"top_genre\"})\n",
    "merged_df = merged_df.rename(columns= {\"dur\": \"duration\"})\n",
    "merged_df = merged_df.rename(columns= {\"acous\": \"acoustic\"})\n",
    "merged_df = merged_df.rename(columns= {\"spch\": \"speech\"})\n",
    "\n",
    "# Only keep one artist page\n",
    "merged_df = merged_df.drop(columns= {\"artist\"})\n",
    "merged_df = merged_df.rename(columns= {\"artists\": \"artist\"})"
   ]
  },
  {
   "cell_type": "code",
   "execution_count": null,
   "id": "57cb949d-504c-459e-9a32-b3066cadd412",
   "metadata": {},
   "outputs": [],
   "source": [
    "# Create a binary column: 1 for multiple artists, 0 for a single artist\n",
    "merged_df['multiple_artists'] = merged_df['artist'].apply(lambda x: 1 if any(keyword in x for keyword in ['Featuring', '+', '&', ',']) else 0)\n",
    "\n",
    "# Display the updated DataFrame\n",
    "print(merged_df[['artist', 'multiple_artists']].head())"
   ]
  },
  {
   "cell_type": "code",
   "execution_count": null,
   "id": "9fcc8eb9-45d7-4c58-9c08-a4934268988a",
   "metadata": {},
   "outputs": [],
   "source": [
    "duplicates = merged_df.duplicated(subset=['song_name'])\n",
    "\n",
    "# Display the rows that have duplicate song names\n",
    "print(merged_df[duplicates])"
   ]
  },
  {
   "cell_type": "code",
   "execution_count": null,
   "id": "50d08268-3a88-4355-8117-0b60e477c9db",
   "metadata": {},
   "outputs": [],
   "source": [
    "# Drop duplicate song names, keeping the first occurrence\n",
    "merged_df_no_duplicates = merged_df.drop_duplicates(subset=['song_name'], keep='first')"
   ]
  },
  {
   "cell_type": "code",
   "execution_count": null,
   "id": "8fb5ffba-dab7-4b79-bc50-7e40a50ea126",
   "metadata": {},
   "outputs": [],
   "source": [
    "final_df = merged_df_no_duplicates.reset_index(drop=True)\n",
    "\n",
    "# Display the updated DataFrame with the new index\n",
    "display(final_df)"
   ]
  },
  {
   "cell_type": "code",
   "execution_count": null,
   "id": "db182333-f885-4628-81e7-589bd9063742",
   "metadata": {},
   "outputs": [],
   "source": [
    "# Create energy bins to use for later analysis\n",
    "final_df['energy_bin'] = pd.cut(final_df['energy'], bins=[0, 50, 75, 100], labels=['Low', 'Medium', 'High'])"
   ]
  },
  {
   "cell_type": "code",
   "execution_count": null,
   "id": "6cc0bcce-406a-480d-b79d-2464fee47e0f",
   "metadata": {},
   "outputs": [],
   "source": [
    "# Display final dataset to use\n",
    "display(final_df)"
   ]
  },
  {
   "cell_type": "markdown",
   "id": "656be144-48aa-40b6-99bd-e61538adc982",
   "metadata": {},
   "source": [
    "## Question 1"
   ]
  },
  {
   "cell_type": "markdown",
   "id": "b3c953a1-e1bb-45ec-bb83-c8d0525b25e0",
   "metadata": {},
   "source": [
    "What attributes have the strongest influence on a highly ranked song on Billboard1? Are there any attributes that have little to no influence on a songs’ ranking?"
   ]
  },
  {
   "cell_type": "code",
   "execution_count": null,
   "id": "3b252138-bafe-44be-92a8-23cad9e833c0",
   "metadata": {},
   "outputs": [],
   "source": [
    "# Select only the relevant columns for correlation analysis\n",
    "columns_of_interest = ['year', 'bpm', 'energy', 'dance', 'dB', 'val', 'duration', 'acoustic', 'speech', 'pop', 'rank']\n",
    "data_subset = final_df[columns_of_interest]\n",
    "\n",
    "# Calculate the correlation matrix\n",
    "correlation_matrix = data_subset.corr()\n",
    "\n",
    "# Create a heatmap to visualize the correlations\n",
    "plt.figure(figsize=(12, 10))\n",
    "sns.heatmap(correlation_matrix, annot=True, cmap='coolwarm', fmt='.2f', linewidths=0.5)\n",
    "\n",
    "# Title for the heatmap\n",
    "plt.title('Correlation Heatmap of Attributes vs Rank')\n",
    "\n",
    "#Show heatmap\n",
    "plt.show()\n",
    "\n",
    "# Identify attributes with the highest and lowest correlation to rank\n",
    "strong_correlation = correlation_matrix['rank'].abs().sort_values(ascending=False)\n",
    "\n",
    "#Print correlation for each attribute\n",
    "print(\"Attributes with the strongest influence on Rank:\")\n",
    "print(strong_correlation)\n"
   ]
  },
  {
   "cell_type": "markdown",
   "id": "0ad29c4f-c486-4c9b-9260-71c599a7726c",
   "metadata": {},
   "source": [
    "<br>"
   ]
  },
  {
   "cell_type": "markdown",
   "id": "a177f86f-9a20-4fe1-a748-98d1fd2c67f8",
   "metadata": {},
   "source": [
    "## Question 2"
   ]
  },
  {
   "cell_type": "markdown",
   "id": "1057ba98-44c8-4562-af87-66519d0c9dbd",
   "metadata": {},
   "source": [
    "Do songs with multiple artists have any effect on song rank and song popularity? Is song rank or popularity affected more?"
   ]
  },
  {
   "cell_type": "code",
   "execution_count": null,
   "id": "4f9b1fa1-18ff-449b-a9c6-37c8b37a2ff0",
   "metadata": {},
   "outputs": [],
   "source": [
    "# Variables of interest\n",
    "variables_of_interest = ['multiple_artists', 'rank', 'pop']\n",
    "data_subset = final_df[variables_of_interest]\n",
    "\n",
    "# Compare means for rank and popularity\n",
    "grouped_data = data_subset.groupby('multiple_artists').mean()\n",
    "mean_rank_multiple = grouped_data.loc[1, 'rank'] if 1 in grouped_data.index else float('nan')\n",
    "mean_rank_single = grouped_data.loc[0, 'rank'] if 0 in grouped_data.index else float('nan')\n",
    "mean_pop_multiple = grouped_data.loc[1, 'pop'] if 1 in grouped_data.index else float('nan')\n",
    "mean_pop_single = grouped_data.loc[0, 'pop'] if 0 in grouped_data.index else float('nan')\n",
    "\n",
    "# Calculate differences in means for visualization\n",
    "rank_difference = mean_rank_multiple - mean_rank_single\n",
    "pop_difference = mean_pop_multiple - mean_pop_single\n",
    "\n",
    "# Print results\n",
    "print(\"Mean Comparison:\")\n",
    "print(f\"Rank (Multiple Artists): {mean_rank_multiple:.2f}, Rank (Single Artist): {mean_rank_single:.2f}\")\n",
    "print(f\"Popularity (Multiple Artists): {mean_pop_multiple:.2f}, Popularity (Single Artist): {mean_pop_single:.2f}\")\n",
    "print(f\"Difference in Rank Means: {rank_difference:.2f}\")\n",
    "print(f\"Difference in Popularity Means: {pop_difference:.2f}\")\n",
    "\n",
    "# Visualize the differences\n",
    "plt.figure(figsize=(12, 6))\n",
    "\n",
    "# Boxplot for Rank\n",
    "plt.subplot(1, 2, 1)\n",
    "sns.boxplot(x='multiple_artists', y='rank', data=data_subset)\n",
    "\n",
    "# Title\n",
    "plt.title('Rank Distribution by Artist Type')\n",
    "\n",
    "# X-axis\n",
    "plt.xlabel('Multiple Artists (0 = Single, 1 = Multiple)')\n",
    "\n",
    "# Y-axis\n",
    "plt.ylabel('Rank')\n",
    "\n",
    "# Boxplot for Popularity\n",
    "plt.subplot(1, 2, 2)\n",
    "sns.boxplot(x='multiple_artists', y='pop', data=data_subset)\n",
    "\n",
    "# Title\n",
    "plt.title('Popularity Distribution by Artist Type')\n",
    "\n",
    "# X-label\n",
    "plt.xlabel('Multiple Artists (0 = Single, 1 = Multiple)')\n",
    "\n",
    "# Y-label\n",
    "plt.ylabel('Popularity')\n",
    "\n",
    "# Print box plots\n",
    "plt.show()\n"
   ]
  },
  {
   "cell_type": "markdown",
   "id": "ea30750e-354a-4735-86ab-501c92e9b18d",
   "metadata": {},
   "source": [
    "<br>"
   ]
  },
  {
   "cell_type": "markdown",
   "id": "864c7b78-1e12-4b03-a25b-fcb44cd4aa22",
   "metadata": {},
   "source": [
    "## Question 3"
   ]
  },
  {
   "cell_type": "markdown",
   "id": "d2733b47-c09f-4d19-89f6-f5e5c1cf78bb",
   "metadata": {},
   "source": [
    "Are there specific years in the dataset where popularity or rank deviates significantly?"
   ]
  },
  {
   "cell_type": "code",
   "execution_count": null,
   "id": "6c8832c2-f5ff-448c-8b99-3b3fadb3e657",
   "metadata": {},
   "outputs": [],
   "source": [
    "# Group data by year and calculate mean values for the specified columns\n",
    "grouped_by_year = final_df.groupby('year')[['pop', 'rank', 'bpm', 'energy', 'dance', 'dB', 'val', 'duration', 'acoustic', 'speech']].mean()\n",
    "\n",
    "# Visualize popularity and rank over the years\n",
    "plt.figure(figsize=(14, 6))\n",
    "\n",
    "# Line plot for Popularity\n",
    "plt.subplot(1, 2, 1)\n",
    "plt.plot(grouped_by_year.index, grouped_by_year['pop'], marker='o')\n",
    "\n",
    "# Title\n",
    "plt.title('Average Popularity by Year')\n",
    "\n",
    "# X-axis\n",
    "plt.xlabel('Year')\n",
    "\n",
    "# Y-axis\n",
    "plt.ylabel('Popularity')\n",
    "\n",
    "# True\n",
    "plt.grid(True)\n",
    "\n",
    "# Line plot for Rank\n",
    "plt.subplot(1, 2, 2)\n",
    "plt.plot(grouped_by_year.index, grouped_by_year['rank'], marker='o', color='orange')\n",
    "\n",
    "# Title\n",
    "plt.title('Average Rank by Year')\n",
    "\n",
    "#X-axis\n",
    "plt.xlabel('Year')\n",
    "\n",
    "# Y-axis\n",
    "plt.ylabel('Rank')\n",
    "plt.grid(True)\n",
    "\n",
    "# Show the graphs\n",
    "plt.show()\n"
   ]
  },
  {
   "cell_type": "markdown",
   "id": "d1001248-71ce-4a8a-94f5-d6b838d557ed",
   "metadata": {},
   "source": [
    "<br>"
   ]
  },
  {
   "cell_type": "markdown",
   "id": "938d17c8-dc76-4f80-8572-84b18898d042",
   "metadata": {},
   "source": [
    "## Question 4"
   ]
  },
  {
   "cell_type": "markdown",
   "id": "1a26968e-5c42-457f-b74b-6964d3935191",
   "metadata": {},
   "source": [
    "Do songs with higher energy consistently have better popularity across genres? "
   ]
  },
  {
   "cell_type": "code",
   "execution_count": null,
   "id": "f9d12431-6d6a-4d23-a7e9-e5d9d7af3114",
   "metadata": {},
   "outputs": [],
   "source": [
    "# Group by energy bins and genres to calculate average popularity\n",
    "energy_bins_genre_popularity = final_df.groupby(['energy_bin', 'top_genre'], observed=False)['pop'].mean().reset_index()\n",
    "\n",
    "# Plot energy bins versus popularity across genres\n",
    "plt.figure(figsize=(12, 8))\n",
    "sns.barplot(x='energy_bin', y='pop', hue='top_genre', data=energy_bins_genre_popularity, errorbar=None)\n",
    "\n",
    "# Title of graph\n",
    "plt.title('Energy Level and Popularity Across Genres', pad=20)\n",
    "\n",
    "# X-axis\n",
    "plt.xlabel('Energy Bins')\n",
    "\n",
    "# Y-axis\n",
    "plt.ylabel('Average Popularity')\n",
    "\n",
    "# Lengend\n",
    "plt.legend(title='Top Genre', bbox_to_anchor=(1.05, 1), loc='upper left')\n",
    "\n",
    "# Show the graph\n",
    "plt.show()\n",
    "\n"
   ]
  },
  {
   "cell_type": "markdown",
   "id": "54be97e0-cb69-483a-923d-7725d2607dde",
   "metadata": {},
   "source": [
    "<br>"
   ]
  },
  {
   "cell_type": "markdown",
   "id": "0221ab7d-1469-4c8a-bb58-94c56ff46502",
   "metadata": {},
   "source": [
    "## Question 5"
   ]
  },
  {
   "cell_type": "markdown",
   "id": "a4b21a37-ace0-47a1-ba72-a7711608b620",
   "metadata": {},
   "source": [
    "Has danceability, duration, energy increased throughout the decade? "
   ]
  },
  {
   "cell_type": "code",
   "execution_count": null,
   "id": "9744458d-52a5-4b36-bfd0-046c6b184a7e",
   "metadata": {},
   "outputs": [],
   "source": [
    "# Variables of interest\n",
    "columns_of_interest = ['year', 'dance', 'duration', 'energy']\n",
    "data = final_df[columns_of_interest]\n",
    "\n",
    "# Group by year and calculate mean values for danceability, duration, and energy\n",
    "grouped_by_year = data.groupby('year').mean().reset_index()\n",
    "\n",
    "# Visualize trends over the decade\n",
    "plt.figure(figsize=(14, 8))\n",
    "\n",
    "# Line plot for Duration\n",
    "plt.plot(grouped_by_year['year'], grouped_by_year['duration'], marker='o', label='Duration', color='orange')\n",
    "\n",
    "# Title\n",
    "plt.title('Trends in Duration Over the Decade')\n",
    "\n",
    "# X label\n",
    "plt.xlabel('Year')\n",
    "\n",
    "# Y label\n",
    "plt.ylabel('Average Duration')\n",
    "\n",
    "# Legend\n",
    "plt.legend()\n",
    "plt.grid(True)\n",
    "\n",
    "# Show duartion graph\n",
    "plt.show()\n",
    "\n",
    "# Create a separate plot for Danceability and Energy\n",
    "plt.figure(figsize=(14, 8))\n",
    "\n",
    "# Line plot for Danceability\n",
    "plt.plot(grouped_by_year['year'], grouped_by_year['dance'], marker='o', label='Danceability', color='blue')\n",
    "\n",
    "# Line plot for Energy\n",
    "plt.plot(grouped_by_year['year'], grouped_by_year['energy'], marker='o', label='Energy', color='green')\n",
    "\n",
    "# Add titles \n",
    "plt.title('Trends in Danceability and Energy Over the Decade')\n",
    "\n",
    "# Add labels\n",
    "plt.xlabel('Year')\n",
    "plt.ylabel('Average Values')\n",
    "plt.legend()\n",
    "plt.grid(True)\n",
    "\n",
    "# Print graph\n",
    "plt.show()\n",
    "\n",
    "# Print the grouped data for inspection\n",
    "print(\"Average values by year:\")\n",
    "print(grouped_by_year)\n"
   ]
  },
  {
   "cell_type": "markdown",
   "id": "d5c1dc06-f2e6-4519-819e-bf6cb12ade32",
   "metadata": {},
   "source": [
    "<br>"
   ]
  },
  {
   "cell_type": "markdown",
   "id": "1d1a44fb-6084-448e-b091-a8610720ec01",
   "metadata": {},
   "source": [
    "## Question 6"
   ]
  },
  {
   "cell_type": "markdown",
   "id": "ab5ce008-1ba4-49f2-8257-0c0461f439b8",
   "metadata": {},
   "source": [
    "What genre or genres are considered to have the most highly ranked songs on Billboard1?"
   ]
  },
  {
   "cell_type": "code",
   "execution_count": null,
   "id": "6f8dff8c-2e4b-4574-a65e-ca54dd5f1b4f",
   "metadata": {},
   "outputs": [],
   "source": [
    "# Count the occurrences of each genre in the final dataset\n",
    "genre_counts = final_df['top_genre'].value_counts()\n",
    "\n",
    "# Visualize the top genres with the most highly ranked songs\n",
    "plt.figure(figsize=(14, 8))\n",
    "genre_counts.head(10).plot(kind='bar', color='skyblue')\n",
    "\n",
    "# Add title\n",
    "plt.title('Top Genres with Most Highly Ranked Songs on Billboard')\n",
    "\n",
    "# Add labels\n",
    "plt.xlabel('Genre')\n",
    "plt.ylabel('Count')\n",
    "\n",
    "# Make it easy to read\n",
    "plt.xticks(rotation=45)\n",
    "\n",
    "# Show graph\n",
    "plt.show()\n",
    "\n",
    "# Print the genre counts for inspection\n",
    "print(\"Top genres by count:\")\n",
    "print(genre_counts)\n"
   ]
  },
  {
   "cell_type": "code",
   "execution_count": null,
   "id": "3ab8aaba-70f4-4f37-81de-862f44e15945",
   "metadata": {},
   "outputs": [],
   "source": []
  }
 ],
 "metadata": {
  "kernelspec": {
   "display_name": "Python 3 (ipykernel)",
   "language": "python",
   "name": "python3"
  },
  "language_info": {
   "codemirror_mode": {
    "name": "ipython",
    "version": 3
   },
   "file_extension": ".py",
   "mimetype": "text/x-python",
   "name": "python",
   "nbconvert_exporter": "python",
   "pygments_lexer": "ipython3",
   "version": "3.12.3"
  }
 },
 "nbformat": 4,
 "nbformat_minor": 5
}
