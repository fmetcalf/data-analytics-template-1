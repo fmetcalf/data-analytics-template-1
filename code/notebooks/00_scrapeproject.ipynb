{
 "cells": [
  {
   "cell_type": "markdown",
   "id": "f55bc989-3190-41e2-bf3c-e01e7da71197",
   "metadata": {},
   "source": [
    "URL of Billboard Website: https://www.billboard.com/charts/decade-end/hot-100/\n",
    "\n",
    "In this file we are scraping a Billboard website that contains the top or hot 100 songs of the 2010s decade. The fields we are scraping are: song_name, artist, and rank. We are first going to scrape each song into a songs list, each artist into an artist list and each rank into a rank list. Then, we will combine those lists into a dictionary. Finally, transform that dictionary to a dataframe. We will save this file named billboard_raw.csv. This is the original data off the website. We are going to merge it with a Kaggle dataset that contains top spotify songs of the same decade. The Kaggle dataset also has features of a song. Once merged, using an inner join, we will be able to tell what features of a song lead it to become a highly renowned piece of music. \r\n",
    "\r\n",
    "Unfortunately, a few days before this project was due, this specific page on Billboard requires a $200 subscription. Therefore, with the permission of Professor Colbert, we had to manually enter our data in an excel spreadsheet and did all of the analysis in workbook 01_analysisofproject. However, we promise this code works as it did everyday prior of December 13th, 2024 \r\n"
   ]
  },
  {
   "cell_type": "code",
   "execution_count": 2,
   "id": "71bc0c85-ba0b-4b67-ae99-f82fc9ec3960",
   "metadata": {},
   "outputs": [],
   "source": [
    "#All librariers necessary\n",
    "import pandas as pd\n",
    "from selenium import webdriver\n",
    "from selenium.webdriver.common.by import By # used to import different ways to access data in the XML or HTML file\n",
    "from selenium.webdriver.chrome.service import Service # no longer need to download a driver file, use service\n",
    "from webdriver_manager.chrome import ChromeDriverManager # used to manage the Chrome driver to emulate a Chrome web browser\n",
    "import time\n",
    "import random"
   ]
  },
  {
   "cell_type": "code",
   "execution_count": 3,
   "id": "de97c3bc-7bf2-49d9-bb04-950419a85ba3",
   "metadata": {},
   "outputs": [],
   "source": [
    "# function to scroll from the top to the bottom of the web page\n",
    "def random_scroll(browser, total_wait_time):\n",
    "    # get the total height of the page\n",
    "    total_height = browser.execute_script(\"return document.body.scrollHeight\")\n",
    "    \n",
    "    # number of steps to scroll (you can adjust this number)\n",
    "    scroll_steps = random.randint(3, 10) # randomize how many scroll steps we will use\n",
    "    \n",
    "    # calculate the height to scroll on each step\n",
    "    scroll_increment = total_height // scroll_steps\n",
    "\n",
    "    # calculate the total time available for scrolling each step\n",
    "    time_per_step = total_wait_time / scroll_steps\n",
    "    \n",
    "    # random scrolling across time\n",
    "    for step in range(scroll_steps):\n",
    "        # scroll by the increment (dividing total height by number of steps)\n",
    "        browser.execute_script(f\"window.scrollBy(0, {scroll_increment});\")\n",
    "        \n",
    "        # random wait time between scrolls to simulate varying speed\n",
    "        random_wait = random.uniform(0.5 * time_per_step, 1.5 * time_per_step)  # randomize the wait within a range\n",
    "        time.sleep(random_wait)\n",
    "        \n",
    "    # final scroll to make sure you are at the very bottom (in case it didn't exactly match)\n",
    "    browser.execute_script(\"window.scrollTo(0, document.body.scrollHeight);\")\n",
    "\n",
    "\n",
    "# initialize the Selenium web driver (Chrome in this case)\n",
    "# browser = webdriver.Chrome(service=Service(ChromeDriverManager().install())) # this occasionally causes \"Status code was: -9\" error.\n",
    "browser = webdriver.Chrome()\n",
    "\n",
    "song = []\n",
    "rank = []\n",
    "artist = []\n",
    "\n",
    "# edit loop range to (1, 2) after testing\n",
    "for i in range(1, 2): # first value is inclusive, second value is not inclusive\n",
    "    url = f\" https://www.billboard.com/charts/decade-end/hot-100/\"\n",
    "\n",
    "    # navigate to the web page using the URL\n",
    "    browser.get(url)\n",
    "    browser.maximize_window()\n",
    "\n",
    "    # add a random delay before scraping\n",
    "    total_wait_time = random.uniform(2, 20)  # random wait time between 2 and 20 seconds\n",
    "    random_scroll(browser, total_wait_time)\n",
    "\n",
    "    # scrape the individual elements\n",
    "    # scrape the song\n",
    "    song_name = browser.find_elements(By.ID, \"title-of-a-story\")\n",
    "\n",
    "    for songs in song_name:     # append song text from this page to the songs list\n",
    "        song.append(songs.text)\n",
    "\n",
    "\n",
    "\n",
    "    \n",
    "    # scrape the artist\n",
    "    artist_name = browser.find_elements(By.CSS_SELECTOR, \"span.c-label.a-font-primary-s\") \n",
    "\n",
    "    for artists in artist_name:     # append artist from this page to the artist list\n",
    "        artist.append(artists.text)\n",
    "\n",
    "    \n",
    "    # scrape the rank\n",
    "    rank_number = browser.find_elements(By.CSS_SELECTOR, \"span.c-label.a-font-primary-bold-l\")\n",
    "    \n",
    "\n",
    "    for ranks in rank_number:     # append rank from this page to the ranks list\n",
    "       rank.append(ranks.text)\n",
    "\n",
    "\n"
   ]
  },
  {
   "cell_type": "code",
   "execution_count": 4,
   "id": "a6438775-038b-4d25-a29b-c3214cc6594b",
   "metadata": {},
   "outputs": [
    {
     "name": "stdout",
     "output_type": "stream",
     "text": [
      "['', '', '', '', '', '', '', '', '', '', '', '', '', '', '', '', '', '', '', '', '', '', '', '', '', '', '', '', '', '', '', '', '', '', '', '', '', '', '', '', '', '', '', '', '', '', '', '', '', '', '', '', '', '', '', '', '', '', '', '', '', '', '', '', '', '', '', '', '', '', '', '', '', '', '', '', '', '', '', '', '', '', '', '', '', '', '', '', '', '', '', '', '', '', '', '', '', '', '', '', \"Oscar Predictions via Feinberg Forecast: Scott's Updated Picks Post AFI, L.A. Film Critics and Golden Globes Announcements\", 'Look Mom!: When Photographers and Their Parents Collaborate', 'Jamie Foxx Directly Addresses Rumor That Diddy \"Tried To Kill\" Him', 'Mets’ Steve Cohen Sells Brooklyn, Syracuse Clubs in Wake of Soto Deal', '‘Malcolm in the Middle’ Revived at Disney+', 'Papoose Says He’s Requested Divorce “Numerous Times,” Remy Ma Exposes His “GF” Claressa Shields', '‘Real Housewives’ Star Sutton Stracke Embraces Viral ‘Name ‘Em’ Moment With Sustainable Collection and Talks New ‘Audience-conscious’ Look', 'NBA Franchise Valuations Interactive Data Viz', '', 'Follow Us', '', 'The Daily', 'Have a Tip?']\n"
     ]
    }
   ],
   "source": [
    "# Print the song list\n",
    "print(song)"
   ]
  },
  {
   "cell_type": "code",
   "execution_count": 5,
   "id": "3a601e6e-b92e-4fa9-bc17-152dff18278c",
   "metadata": {},
   "outputs": [
    {
     "data": {
      "text/plain": [
       "113"
      ]
     },
     "execution_count": 5,
     "metadata": {},
     "output_type": "execute_result"
    }
   ],
   "source": [
    "# Print length of song list to make sure it is 100\n",
    "len(song)"
   ]
  },
  {
   "cell_type": "code",
   "execution_count": null,
   "id": "63615caa-6238-482b-97f7-b71bf536a996",
   "metadata": {},
   "outputs": [],
   "source": [
    "# Get rid of unncessary information in the last 13 items in the list\n",
    "song = song[:-13]"
   ]
  },
  {
   "cell_type": "code",
   "execution_count": 6,
   "id": "428c38ce-3f60-459f-ba3e-6fc462a070a8",
   "metadata": {},
   "outputs": [
    {
     "name": "stdout",
     "output_type": "stream",
     "text": [
      "['', '', '', '', '', '', '', '', '', '', '', '', '', '', '', '', '', '', '', '', '', '', '', '', '', '', '', '', '', '', '', '', '', '', '', '', '', '', '', '', '', '', '', '', '', '', '', '', '', '', '', '', '', '', '', '', '', '', '', '', '', '', '', '', '', '', '', '', '', '', '', '', '', '', '', '', '', '', '', '', '', '', '', '', '', '', '', '', '', '', '', '', '', '', '', '', '', '', '', '']\n"
     ]
    }
   ],
   "source": [
    "# Print artist list\n",
    "print(artist)"
   ]
  },
  {
   "cell_type": "code",
   "execution_count": 7,
   "id": "45283808-3345-4bb7-a6f6-47789d6edddc",
   "metadata": {},
   "outputs": [
    {
     "data": {
      "text/plain": [
       "100"
      ]
     },
     "execution_count": 7,
     "metadata": {},
     "output_type": "execute_result"
    }
   ],
   "source": [
    "# Print length of artist list to make sure it is 100\n",
    "len(artist)"
   ]
  },
  {
   "cell_type": "code",
   "execution_count": 8,
   "id": "44bea0b8-59a6-49e3-a64c-228916f4a2b6",
   "metadata": {},
   "outputs": [
    {
     "name": "stdout",
     "output_type": "stream",
     "text": [
      "['', '', '', '', '', '', '', '', '', '', '', '', '', '', '', '', '', '', '', '', '', '', '', '', '', '', '', '', '', '', '', '', '', '', '', '', '', '', '', '', '', '', '', '', '', '', '', '', '', '', '', '', '', '', '', '', '', '', '', '', '', '', '', '', '', '', '', '', '', '', '', '', '', '', '', '', '', '', '', '', '', '', '', '', '', '', '', '', '', '', '', '', '', '', '', '', '', '', '', '']\n"
     ]
    }
   ],
   "source": [
    "# Print rank list\n",
    "print(rank)"
   ]
  },
  {
   "cell_type": "code",
   "execution_count": 11,
   "id": "006b961a-413f-4634-89bc-18f61b3b6866",
   "metadata": {},
   "outputs": [
    {
     "data": {
      "text/plain": [
       "100"
      ]
     },
     "execution_count": 11,
     "metadata": {},
     "output_type": "execute_result"
    }
   ],
   "source": [
    "# Print length of rank list to make sure it is 100\n",
    "len(song)"
   ]
  },
  {
   "cell_type": "code",
   "execution_count": 12,
   "id": "959af2eb-894e-45ba-9aab-80dfdb94f811",
   "metadata": {},
   "outputs": [],
   "source": [
    "# Create a dictionary based off of the list\n",
    "billboard={\n",
    "    \"song_name\":song,\n",
    "    \"artist\":artist,\n",
    "    \"rank\":rank\n",
    "}"
   ]
  },
  {
   "cell_type": "code",
   "execution_count": 13,
   "id": "debb3db8-a056-4a8d-be6a-9d6ab45533e0",
   "metadata": {},
   "outputs": [],
   "source": [
    "# Make the dictionary a dataframe\n",
    "billboard = pd.DataFrame(billboard)"
   ]
  },
  {
   "cell_type": "code",
   "execution_count": 14,
   "id": "d6ba1a69-b59d-4ae7-92ba-43cdfb79a931",
   "metadata": {},
   "outputs": [
    {
     "data": {
      "text/html": [
       "<div>\n",
       "<style scoped>\n",
       "    .dataframe tbody tr th:only-of-type {\n",
       "        vertical-align: middle;\n",
       "    }\n",
       "\n",
       "    .dataframe tbody tr th {\n",
       "        vertical-align: top;\n",
       "    }\n",
       "\n",
       "    .dataframe thead th {\n",
       "        text-align: right;\n",
       "    }\n",
       "</style>\n",
       "<table border=\"1\" class=\"dataframe\">\n",
       "  <thead>\n",
       "    <tr style=\"text-align: right;\">\n",
       "      <th></th>\n",
       "      <th>song_name</th>\n",
       "      <th>artist</th>\n",
       "      <th>rank</th>\n",
       "    </tr>\n",
       "  </thead>\n",
       "  <tbody>\n",
       "    <tr>\n",
       "      <th>0</th>\n",
       "      <td></td>\n",
       "      <td></td>\n",
       "      <td></td>\n",
       "    </tr>\n",
       "    <tr>\n",
       "      <th>1</th>\n",
       "      <td></td>\n",
       "      <td></td>\n",
       "      <td></td>\n",
       "    </tr>\n",
       "    <tr>\n",
       "      <th>2</th>\n",
       "      <td></td>\n",
       "      <td></td>\n",
       "      <td></td>\n",
       "    </tr>\n",
       "    <tr>\n",
       "      <th>3</th>\n",
       "      <td></td>\n",
       "      <td></td>\n",
       "      <td></td>\n",
       "    </tr>\n",
       "    <tr>\n",
       "      <th>4</th>\n",
       "      <td></td>\n",
       "      <td></td>\n",
       "      <td></td>\n",
       "    </tr>\n",
       "    <tr>\n",
       "      <th>...</th>\n",
       "      <td>...</td>\n",
       "      <td>...</td>\n",
       "      <td>...</td>\n",
       "    </tr>\n",
       "    <tr>\n",
       "      <th>95</th>\n",
       "      <td></td>\n",
       "      <td></td>\n",
       "      <td></td>\n",
       "    </tr>\n",
       "    <tr>\n",
       "      <th>96</th>\n",
       "      <td></td>\n",
       "      <td></td>\n",
       "      <td></td>\n",
       "    </tr>\n",
       "    <tr>\n",
       "      <th>97</th>\n",
       "      <td></td>\n",
       "      <td></td>\n",
       "      <td></td>\n",
       "    </tr>\n",
       "    <tr>\n",
       "      <th>98</th>\n",
       "      <td></td>\n",
       "      <td></td>\n",
       "      <td></td>\n",
       "    </tr>\n",
       "    <tr>\n",
       "      <th>99</th>\n",
       "      <td></td>\n",
       "      <td></td>\n",
       "      <td></td>\n",
       "    </tr>\n",
       "  </tbody>\n",
       "</table>\n",
       "<p>100 rows × 3 columns</p>\n",
       "</div>"
      ],
      "text/plain": [
       "   song_name artist rank\n",
       "0                       \n",
       "1                       \n",
       "2                       \n",
       "3                       \n",
       "4                       \n",
       "..       ...    ...  ...\n",
       "95                      \n",
       "96                      \n",
       "97                      \n",
       "98                      \n",
       "99                      \n",
       "\n",
       "[100 rows x 3 columns]"
      ]
     },
     "metadata": {},
     "output_type": "display_data"
    }
   ],
   "source": [
    "# Display dataframe\n",
    "display(billboard)"
   ]
  },
  {
   "cell_type": "code",
   "execution_count": null,
   "id": "1ae26100-0c53-48ca-8f10-e6f8d5f6663c",
   "metadata": {},
   "outputs": [],
   "source": [
    "# Save this as the raw csv file\n",
    "billboard.to_csv(\"billboard_raw.csv\", encoding='utf-8')"
   ]
  }
 ],
 "metadata": {
  "kernelspec": {
   "display_name": "Python 3 (ipykernel)",
   "language": "python",
   "name": "python3"
  },
  "language_info": {
   "codemirror_mode": {
    "name": "ipython",
    "version": 3
   },
   "file_extension": ".py",
   "mimetype": "text/x-python",
   "name": "python",
   "nbconvert_exporter": "python",
   "pygments_lexer": "ipython3",
   "version": "3.12.3"
  }
 },
 "nbformat": 4,
 "nbformat_minor": 5
}
